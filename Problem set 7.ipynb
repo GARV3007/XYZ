{
 "cells": [
  {
   "cell_type": "markdown",
   "metadata": {},
   "source": [
    "Problem Set 6: confidence intervals and hypothesis testing in multiple regression<br>\n",
    "Jyoti Chandrawanshi<br>"
   ]
  },
  {
   "cell_type": "code",
   "execution_count": 2,
   "metadata": {},
   "outputs": [
    {
     "name": "stderr",
     "output_type": "stream",
     "text": [
      "C:\\Users\\goura\\Anaconda3\\lib\\site-packages\\statsmodels\\tools\\_testing.py:19: FutureWarning: pandas.util.testing is deprecated. Use the functions in the public API at pandas.testing instead.\n",
      "  import pandas.util.testing as tm\n"
     ]
    }
   ],
   "source": [
    "import numpy as np\n",
    "import pandas as pd\n",
    "import statsmodels.api as sm\n",
    "import math\n",
    "import scipy.stats as stats\n",
    "\n",
    "import matplotlib.pyplot as plt\n",
    "import seaborn as sns\n",
    "%matplotlib inline\n",
    "sns.set_style('white')"
   ]
  },
  {
   "cell_type": "code",
   "execution_count": 3,
   "metadata": {},
   "outputs": [],
   "source": [
    "df = pd.read_csv(\"lead_mortality.csv\")"
   ]
  },
  {
   "cell_type": "code",
   "execution_count": 4,
   "metadata": {},
   "outputs": [
    {
     "name": "stdout",
     "output_type": "stream",
     "text": [
      "<class 'pandas.core.frame.DataFrame'>\n",
      "RangeIndex: 172 entries, 0 to 171\n",
      "Data columns (total 15 columns):\n",
      " #   Column         Non-Null Count  Dtype  \n",
      "---  ------         --------------  -----  \n",
      " 0   year           172 non-null    int64  \n",
      " 1   city           172 non-null    object \n",
      " 2   state          172 non-null    object \n",
      " 3   age            172 non-null    float64\n",
      " 4   hardness       172 non-null    int64  \n",
      " 5   ph             172 non-null    float64\n",
      " 6   infrate        172 non-null    float64\n",
      " 7   typhoid_rate   172 non-null    float64\n",
      " 8   np_tub_rate    172 non-null    float64\n",
      " 9   mom_rate       172 non-null    float64\n",
      " 10  population     172 non-null    float64\n",
      " 11  precipitation  172 non-null    float64\n",
      " 12  temperature    172 non-null    float64\n",
      " 13  lead           172 non-null    int64  \n",
      " 14  foreign_share  172 non-null    float64\n",
      "dtypes: float64(10), int64(3), object(2)\n",
      "memory usage: 20.3+ KB\n"
     ]
    }
   ],
   "source": [
    "# First we'll take a look at the data. Are there any null values that we have to worry about?\n",
    "df.info()"
   ]
  },
  {
   "cell_type": "markdown",
   "metadata": {},
   "source": [
    "#### 1. What is the average infant mortality rate (Infrate) for cities with lead pipes and for cities with nonleaded pipes. Is there a statistically significant difference in the averages? "
   ]
  },
  {
   "cell_type": "code",
   "execution_count": 17,
   "metadata": {},
   "outputs": [
    {
     "name": "stdout",
     "output_type": "stream",
     "text": [
      "The Infrate for group 1 is 0.40326 , the Infrate for group 2 is 0.38117 and the difference is 0.02209\n"
     ]
    }
   ],
   "source": [
    "y_group1 = df[df[\"lead\"] == 1]['infrate']\n",
    "y_group1_mean = y_group1.mean()\n",
    "\n",
    "y_group2 = df[df[\"lead\"] == 0]['infrate']\n",
    "y_group2_mean = y_group2.mean()\n",
    "    \n",
    " \n",
    "mean_diff = y_group1_mean - y_group2_mean  \n",
    "\n",
    "\n",
    "print(\"The Infrate for group 1 is\", round(y_group1_mean, 5), \n",
    "      \", the Infrate for group 2 is\", round(y_group2_mean, 5),\n",
    "     \"and the difference is\", round(mean_diff, 5))"
   ]
  },
  {
   "cell_type": "code",
   "execution_count": 18,
   "metadata": {},
   "outputs": [
    {
     "name": "stdout",
     "output_type": "stream",
     "text": [
      "The standard error for group 1 is 0.01415 and the standard error for group 2 is 0.01992\n",
      "The standard error of the difference is 0.02444\n"
     ]
    }
   ],
   "source": [
    "se_group1 = stats.sem(y_group1)\n",
    "se_group2 = stats.sem(y_group2)\n",
    "\n",
    "print(\"The standard error for group 1 is\", round(se_group1, 5), \n",
    "      \"and the standard error for group 2 is\", round(se_group2, 5))\n",
    "\n",
    "se_diff = math.sqrt(se_group1**2 + se_group2**2)\n",
    "#Hint: use math.sqrt for square roots, and use \"**\" for exponents\n",
    "\n",
    "print(\"The standard error of the difference is\", round(se_diff, 5))"
   ]
  },
  {
   "cell_type": "markdown",
   "metadata": {},
   "source": [
    "t = 0.02209 / 0.02444<br>\n",
    "t = .90384615\n"
   ]
  },
  {
   "cell_type": "code",
   "execution_count": 7,
   "metadata": {},
   "outputs": [
    {
     "name": "stdout",
     "output_type": "stream",
     "text": [
      "count    117.000000\n",
      "mean       0.403258\n",
      "std        0.153087\n",
      "min        0.141361\n",
      "25%        0.295796\n",
      "50%        0.390323\n",
      "75%        0.478431\n",
      "max        0.844466\n",
      "Name: infrate, dtype: float64\n"
     ]
    }
   ],
   "source": [
    "y_group1 = df[df[\"lead\"] == 1]['infrate']\n",
    "stats_numeric1 = y_group1.describe()\n",
    "print (stats_numeric1)"
   ]
  },
  {
   "cell_type": "code",
   "execution_count": 8,
   "metadata": {},
   "outputs": [
    {
     "name": "stdout",
     "output_type": "stream",
     "text": [
      "count    55.000000\n",
      "mean      0.381168\n",
      "std       0.147759\n",
      "min       0.109756\n",
      "25%       0.277626\n",
      "50%       0.375000\n",
      "75%       0.453295\n",
      "max       0.751553\n",
      "Name: infrate, dtype: float64\n"
     ]
    }
   ],
   "source": [
    "y_group2 = df[df[\"lead\"] == 0]['infrate']\n",
    "stats_numeric2 = y_group2.describe()\n",
    "print (stats_numeric2)"
   ]
  },
  {
   "cell_type": "markdown",
   "metadata": {},
   "source": [
    "formula for t test is = m1 -m2 / sqrt(sd1^2/n1+sd2^2/n2) <br>\n",
    "substitutes the value of mean and standard deviatiion <br>\n",
    "\n",
    "t = 0.403258 - 0.381168  /sqrt(0.153087^2/117+ 0.147759^2/55) <br>\n",
    "t = .02209 /sqrt(.000597) <br>\n",
    "t = .02209/.02443<br>\n",
    "t = .9042 <br>\n",
    "Since the the t value is less than 1.96 so, we can not reject the null hypothesis or we can say that the average means are approximately equal.\n"
   ]
  },
  {
   "cell_type": "markdown",
   "metadata": {},
   "source": [
    "#### 2. The amount of lead leached from lead pipes depends on the chemistry of the water running through the pipes. The more acidic the water (the lower its pH), the more lead is leeched."
   ]
  },
  {
   "cell_type": "markdown",
   "metadata": {},
   "source": [
    "#### a. Run a regression of Infrate on Lead, pH, and the interaction term Lead * pH "
   ]
  },
  {
   "cell_type": "code",
   "execution_count": 10,
   "metadata": {},
   "outputs": [
    {
     "data": {
      "text/html": [
       "<table class=\"simpletable\">\n",
       "<caption>OLS Regression Results</caption>\n",
       "<tr>\n",
       "  <th>Dep. Variable:</th>         <td>infrate</td>     <th>  R-squared:         </th> <td>   0.272</td>\n",
       "</tr>\n",
       "<tr>\n",
       "  <th>Model:</th>                   <td>OLS</td>       <th>  Adj. R-squared:    </th> <td>   0.259</td>\n",
       "</tr>\n",
       "<tr>\n",
       "  <th>Method:</th>             <td>Least Squares</td>  <th>  F-statistic:       </th> <td>   20.97</td>\n",
       "</tr>\n",
       "<tr>\n",
       "  <th>Date:</th>             <td>Fri, 26 Feb 2021</td> <th>  Prob (F-statistic):</th> <td>1.37e-11</td>\n",
       "</tr>\n",
       "<tr>\n",
       "  <th>Time:</th>                 <td>15:24:19</td>     <th>  Log-Likelihood:    </th> <td>  108.52</td>\n",
       "</tr>\n",
       "<tr>\n",
       "  <th>No. Observations:</th>      <td>   172</td>      <th>  AIC:               </th> <td>  -209.0</td>\n",
       "</tr>\n",
       "<tr>\n",
       "  <th>Df Residuals:</th>          <td>   168</td>      <th>  BIC:               </th> <td>  -196.5</td>\n",
       "</tr>\n",
       "<tr>\n",
       "  <th>Df Model:</th>              <td>     3</td>      <th>                     </th>     <td> </td>   \n",
       "</tr>\n",
       "<tr>\n",
       "  <th>Covariance Type:</th>         <td>HC1</td>       <th>                     </th>     <td> </td>   \n",
       "</tr>\n",
       "</table>\n",
       "<table class=\"simpletable\">\n",
       "<tr>\n",
       "     <td></td>        <th>coef</th>     <th>std err</th>      <th>z</th>      <th>P>|z|</th>  <th>[0.025</th>    <th>0.975]</th>  \n",
       "</tr>\n",
       "<tr>\n",
       "  <th>const</th>   <td>    0.9189</td> <td>    0.150</td> <td>    6.106</td> <td> 0.000</td> <td>    0.624</td> <td>    1.214</td>\n",
       "</tr>\n",
       "<tr>\n",
       "  <th>lead</th>    <td>    0.4618</td> <td>    0.208</td> <td>    2.224</td> <td> 0.026</td> <td>    0.055</td> <td>    0.869</td>\n",
       "</tr>\n",
       "<tr>\n",
       "  <th>ph</th>      <td>   -0.0752</td> <td>    0.021</td> <td>   -3.588</td> <td> 0.000</td> <td>   -0.116</td> <td>   -0.034</td>\n",
       "</tr>\n",
       "<tr>\n",
       "  <th>lead_ph</th> <td>   -0.0569</td> <td>    0.028</td> <td>   -2.025</td> <td> 0.043</td> <td>   -0.112</td> <td>   -0.002</td>\n",
       "</tr>\n",
       "</table>\n",
       "<table class=\"simpletable\">\n",
       "<tr>\n",
       "  <th>Omnibus:</th>       <td> 4.916</td> <th>  Durbin-Watson:     </th> <td>   1.946</td>\n",
       "</tr>\n",
       "<tr>\n",
       "  <th>Prob(Omnibus):</th> <td> 0.086</td> <th>  Jarque-Bera (JB):  </th> <td>   4.987</td>\n",
       "</tr>\n",
       "<tr>\n",
       "  <th>Skew:</th>          <td> 0.411</td> <th>  Prob(JB):          </th> <td>  0.0826</td>\n",
       "</tr>\n",
       "<tr>\n",
       "  <th>Kurtosis:</th>      <td> 2.861</td> <th>  Cond. No.          </th> <td>    252.</td>\n",
       "</tr>\n",
       "</table><br/><br/>Warnings:<br/>[1] Standard Errors are heteroscedasticity robust (HC1)"
      ],
      "text/plain": [
       "<class 'statsmodels.iolib.summary.Summary'>\n",
       "\"\"\"\n",
       "                            OLS Regression Results                            \n",
       "==============================================================================\n",
       "Dep. Variable:                infrate   R-squared:                       0.272\n",
       "Model:                            OLS   Adj. R-squared:                  0.259\n",
       "Method:                 Least Squares   F-statistic:                     20.97\n",
       "Date:                Fri, 26 Feb 2021   Prob (F-statistic):           1.37e-11\n",
       "Time:                        15:24:19   Log-Likelihood:                 108.52\n",
       "No. Observations:                 172   AIC:                            -209.0\n",
       "Df Residuals:                     168   BIC:                            -196.5\n",
       "Df Model:                           3                                         \n",
       "Covariance Type:                  HC1                                         \n",
       "==============================================================================\n",
       "                 coef    std err          z      P>|z|      [0.025      0.975]\n",
       "------------------------------------------------------------------------------\n",
       "const          0.9189      0.150      6.106      0.000       0.624       1.214\n",
       "lead           0.4618      0.208      2.224      0.026       0.055       0.869\n",
       "ph            -0.0752      0.021     -3.588      0.000      -0.116      -0.034\n",
       "lead_ph       -0.0569      0.028     -2.025      0.043      -0.112      -0.002\n",
       "==============================================================================\n",
       "Omnibus:                        4.916   Durbin-Watson:                   1.946\n",
       "Prob(Omnibus):                  0.086   Jarque-Bera (JB):                4.987\n",
       "Skew:                           0.411   Prob(JB):                       0.0826\n",
       "Kurtosis:                       2.861   Cond. No.                         252.\n",
       "==============================================================================\n",
       "\n",
       "Warnings:\n",
       "[1] Standard Errors are heteroscedasticity robust (HC1)\n",
       "\"\"\""
      ]
     },
     "execution_count": 10,
     "metadata": {},
     "output_type": "execute_result"
    }
   ],
   "source": [
    "df.lead = df.lead.astype(float)\n",
    "df['lead_ph'] = df['lead']*df['ph']\n",
    "\n",
    "X = df[['lead','ph','lead_ph']]\n",
    "Y = df[\"infrate\"]\n",
    "X = sm.add_constant(X.values)\n",
    "model = sm.OLS(Y, X).fit(cov_type = 'HC1')\n",
    "model.summary(xname = ['const', 'lead','ph','lead_ph'])"
   ]
  },
  {
   "cell_type": "markdown",
   "metadata": {},
   "source": [
    "#### b. The regression has four coefficients, including the intercept. Explain what each coefficient means. Does Lead have a statistically significant effect on infant mortality?"
   ]
  },
  {
   "cell_type": "markdown",
   "metadata": {},
   "source": [
    "The mean change in ph by one unit will decrease infant mortality by 0.0752. when other variables are constant.The mean change in lead by one unit will change infant mortality by 0.4618. when other variables are constant. For mean change in ph * lead by one unit will decrease infant mortality by 0.0569 when other variables are constant. When ph and lead are not present or zero then the infant mortality is 0.9189. "
   ]
  },
  {
   "cell_type": "markdown",
   "metadata": {},
   "source": [
    "#### c. Does the effect of Lead on infant mortality depend on pH? Is this dependence statistically significant? "
   ]
  },
  {
   "cell_type": "markdown",
   "metadata": {},
   "source": [
    "From regression equation: <br>\n",
    "\n",
    "infant mortality = 0.9189 + 0.4618 * lead - 0.0752\t* ph - 0.0569 * lead_ph<br>\n",
    "\n",
    "if mean value of lead will change by one unit then infant mortality will increase by 0.4618 when other variable are constant. for lead_ph, the mean value of lead_ph will change by one unit then infant mortality will decreses by 0.0569 when other variable are constant.Yes lead_ph has statistically significant effect on infant mortality because the p-value of lead_ph (0.043) is less than alpha at 0.05."
   ]
  },
  {
   "cell_type": "markdown",
   "metadata": {},
   "source": [
    "#### 3. The analysis in question 2 may suffer from omitted variable bias because it doesn't include other factors that affect infant mortality that may also be correlated with Lead and pH. When looking at other variables in the dataset, explain why you think the regression does or does not have omitted variable bias. "
   ]
  },
  {
   "cell_type": "code",
   "execution_count": null,
   "metadata": {},
   "outputs": [],
   "source": [
    "X = df[['lead','ph','age','hardness','typhoid_rate','np_tub_rate','mom_rate','population','precipitation','temperature','foreign_share']]\n",
    "Y = df[\"infrate\"]\n",
    "X = sm.add_constant(X.values)\n",
    "model = sm.OLS(Y, X).fit(cov_type = 'HC1')\n",
    "model.summary(xname = ['const', 'lead','ph','age','hardness','typhoid_rate','np_tub_rate','mom_rate','population','precipitation','temperature','foreign_share'])"
   ]
  },
  {
   "cell_type": "code",
   "execution_count": null,
   "metadata": {},
   "outputs": [],
   "source": []
  }
 ],
 "metadata": {
  "kernelspec": {
   "display_name": "Python 3",
   "language": "python",
   "name": "python3"
  },
  "language_info": {
   "codemirror_mode": {
    "name": "ipython",
    "version": 3
   },
   "file_extension": ".py",
   "mimetype": "text/x-python",
   "name": "python",
   "nbconvert_exporter": "python",
   "pygments_lexer": "ipython3",
   "version": "3.7.4"
  }
 },
 "nbformat": 4,
 "nbformat_minor": 2
}
