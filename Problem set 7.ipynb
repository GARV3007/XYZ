{
 "cells": [
  {
   "cell_type": "markdown",
   "metadata": {},
   "source": [
    "Problem Set 6: confidence intervals and hypothesis testing in multiple regression<br>\n",
    "Jyoti Chandrawanshi<br>"
   ]
  },
  {
   "cell_type": "code",
   "execution_count": 12,
   "metadata": {},
   "outputs": [],
   "source": [
    "import numpy as np\n",
    "import pandas as pd\n",
    "import statsmodels.api as sm\n",
    "import math\n",
    "import scipy.stats as stats\n",
    "\n",
    "import matplotlib.pyplot as plt\n",
    "import seaborn as sns\n",
    "%matplotlib inline\n",
    "sns.set_style('white')"
   ]
  },
  {
   "cell_type": "code",
   "execution_count": 13,
   "metadata": {},
   "outputs": [],
   "source": [
    "df = pd.read_csv(\"lead_mortality.csv\")"
   ]
  },
  {
   "cell_type": "code",
   "execution_count": 14,
   "metadata": {},
   "outputs": [
    {
     "name": "stdout",
     "output_type": "stream",
     "text": [
      "<class 'pandas.core.frame.DataFrame'>\n",
      "RangeIndex: 172 entries, 0 to 171\n",
      "Data columns (total 15 columns):\n",
      "year             172 non-null int64\n",
      "city             172 non-null object\n",
      "state            172 non-null object\n",
      "age              172 non-null float64\n",
      "hardness         172 non-null int64\n",
      "ph               172 non-null float64\n",
      "infrate          172 non-null float64\n",
      "typhoid_rate     172 non-null float64\n",
      "np_tub_rate      172 non-null float64\n",
      "mom_rate         172 non-null float64\n",
      "population       172 non-null float64\n",
      "precipitation    172 non-null float64\n",
      "temperature      172 non-null float64\n",
      "lead             172 non-null int64\n",
      "foreign_share    172 non-null float64\n",
      "dtypes: float64(10), int64(3), object(2)\n",
      "memory usage: 20.3+ KB\n"
     ]
    }
   ],
   "source": [
    "# First we'll take a look at the data. Are there any null values that we have to worry about?\n",
    "df.info()"
   ]
  },
  {
   "cell_type": "markdown",
   "metadata": {},
   "source": [
    "#### 1. What is the average infant mortality rate (Infrate) for cities with lead pipes and for cities with nonleaded pipes. Is there a statistically significant difference in the averages? "
   ]
  },
  {
   "cell_type": "code",
   "execution_count": 19,
   "metadata": {},
   "outputs": [
    {
     "name": "stdout",
     "output_type": "stream",
     "text": [
      "The Infrate for group 1(with lead pipes) is 0.40326 , the Infrate for group 2(with nonlead pipes) is 0.38117 and the difference is 0.02209\n"
     ]
    }
   ],
   "source": [
    "y_group1 = df[df[\"lead\"] == 1]['infrate']\n",
    "y_group1_mean = y_group1.mean()\n",
    "\n",
    "y_group2 = df[df[\"lead\"] == 0]['infrate']\n",
    "y_group2_mean = y_group2.mean()\n",
    "    \n",
    " \n",
    "mean_diff = y_group1_mean - y_group2_mean  \n",
    "\n",
    "\n",
    "print(\"The Infrate for group 1(with lead pipes) is\", round(y_group1_mean, 5), \n",
    "      \", the Infrate for group 2(with nonlead pipes) is\", round(y_group2_mean, 5),\n",
    "     \"and the difference is\", round(mean_diff, 5))"
   ]
  },
  {
   "cell_type": "code",
   "execution_count": 16,
   "metadata": {},
   "outputs": [
    {
     "name": "stdout",
     "output_type": "stream",
     "text": [
      "The standard error for group 1 is 0.01415 and the standard error for group 2 is 0.01992\n",
      "The standard error of the difference is 0.02444\n"
     ]
    }
   ],
   "source": [
    "se_group1 = stats.sem(y_group1)\n",
    "se_group2 = stats.sem(y_group2)\n",
    "\n",
    "print(\"The standard error for group 1 is\", round(se_group1, 5), \n",
    "      \"and the standard error for group 2 is\", round(se_group2, 5))\n",
    "\n",
    "se_diff = math.sqrt(se_group1**2 + se_group2**2)\n",
    "#Hint: use math.sqrt for square roots, and use \"**\" for exponents\n",
    "\n",
    "print(\"The standard error of the difference is\", round(se_diff, 5))"
   ]
  },
  {
   "cell_type": "markdown",
   "metadata": {},
   "source": [
    "t = 0.02209 / 0.02444<br>\n",
    "t = .90384615<br>\n",
    "The average infant mortality rate (Infrate) for cities with lead pipes is() and for cities with nonleaded pipes is ().Since the the t value is less than 1.96 critical value so, we can not reject the null hypothesis or we can say that the there is not enough evidenace supporting diffrence in average infant mortality rate for cities with lead and with nonlead pipes."
   ]
  },
  {
   "cell_type": "markdown",
   "metadata": {},
   "source": [
    "#### 2. The amount of lead leached from lead pipes depends on the chemistry of the water running through the pipes. The more acidic the water (the lower its pH), the more lead is leeched."
   ]
  },
  {
   "cell_type": "markdown",
   "metadata": {},
   "source": [
    "#### a. Run a regression of Infrate on Lead, pH, and the interaction term Lead * pH "
   ]
  },
  {
   "cell_type": "code",
   "execution_count": 17,
   "metadata": {},
   "outputs": [
    {
     "data": {
      "text/html": [
       "<table class=\"simpletable\">\n",
       "<caption>OLS Regression Results</caption>\n",
       "<tr>\n",
       "  <th>Dep. Variable:</th>         <td>infrate</td>     <th>  R-squared:         </th> <td>   0.272</td>\n",
       "</tr>\n",
       "<tr>\n",
       "  <th>Model:</th>                   <td>OLS</td>       <th>  Adj. R-squared:    </th> <td>   0.259</td>\n",
       "</tr>\n",
       "<tr>\n",
       "  <th>Method:</th>             <td>Least Squares</td>  <th>  F-statistic:       </th> <td>   20.97</td>\n",
       "</tr>\n",
       "<tr>\n",
       "  <th>Date:</th>             <td>Fri, 05 Mar 2021</td> <th>  Prob (F-statistic):</th> <td>1.37e-11</td>\n",
       "</tr>\n",
       "<tr>\n",
       "  <th>Time:</th>                 <td>19:50:21</td>     <th>  Log-Likelihood:    </th> <td>  108.52</td>\n",
       "</tr>\n",
       "<tr>\n",
       "  <th>No. Observations:</th>      <td>   172</td>      <th>  AIC:               </th> <td>  -209.0</td>\n",
       "</tr>\n",
       "<tr>\n",
       "  <th>Df Residuals:</th>          <td>   168</td>      <th>  BIC:               </th> <td>  -196.5</td>\n",
       "</tr>\n",
       "<tr>\n",
       "  <th>Df Model:</th>              <td>     3</td>      <th>                     </th>     <td> </td>   \n",
       "</tr>\n",
       "<tr>\n",
       "  <th>Covariance Type:</th>         <td>HC1</td>       <th>                     </th>     <td> </td>   \n",
       "</tr>\n",
       "</table>\n",
       "<table class=\"simpletable\">\n",
       "<tr>\n",
       "     <td></td>        <th>coef</th>     <th>std err</th>      <th>z</th>      <th>P>|z|</th>  <th>[0.025</th>    <th>0.975]</th>  \n",
       "</tr>\n",
       "<tr>\n",
       "  <th>const</th>   <td>    0.9189</td> <td>    0.150</td> <td>    6.106</td> <td> 0.000</td> <td>    0.624</td> <td>    1.214</td>\n",
       "</tr>\n",
       "<tr>\n",
       "  <th>lead</th>    <td>    0.4618</td> <td>    0.208</td> <td>    2.224</td> <td> 0.026</td> <td>    0.055</td> <td>    0.869</td>\n",
       "</tr>\n",
       "<tr>\n",
       "  <th>ph</th>      <td>   -0.0752</td> <td>    0.021</td> <td>   -3.588</td> <td> 0.000</td> <td>   -0.116</td> <td>   -0.034</td>\n",
       "</tr>\n",
       "<tr>\n",
       "  <th>lead_ph</th> <td>   -0.0569</td> <td>    0.028</td> <td>   -2.025</td> <td> 0.043</td> <td>   -0.112</td> <td>   -0.002</td>\n",
       "</tr>\n",
       "</table>\n",
       "<table class=\"simpletable\">\n",
       "<tr>\n",
       "  <th>Omnibus:</th>       <td> 4.916</td> <th>  Durbin-Watson:     </th> <td>   1.946</td>\n",
       "</tr>\n",
       "<tr>\n",
       "  <th>Prob(Omnibus):</th> <td> 0.086</td> <th>  Jarque-Bera (JB):  </th> <td>   4.987</td>\n",
       "</tr>\n",
       "<tr>\n",
       "  <th>Skew:</th>          <td> 0.411</td> <th>  Prob(JB):          </th> <td>  0.0826</td>\n",
       "</tr>\n",
       "<tr>\n",
       "  <th>Kurtosis:</th>      <td> 2.861</td> <th>  Cond. No.          </th> <td>    252.</td>\n",
       "</tr>\n",
       "</table><br/><br/>Warnings:<br/>[1] Standard Errors are heteroscedasticity robust (HC1)"
      ],
      "text/plain": [
       "<class 'statsmodels.iolib.summary.Summary'>\n",
       "\"\"\"\n",
       "                            OLS Regression Results                            \n",
       "==============================================================================\n",
       "Dep. Variable:                infrate   R-squared:                       0.272\n",
       "Model:                            OLS   Adj. R-squared:                  0.259\n",
       "Method:                 Least Squares   F-statistic:                     20.97\n",
       "Date:                Fri, 05 Mar 2021   Prob (F-statistic):           1.37e-11\n",
       "Time:                        19:50:21   Log-Likelihood:                 108.52\n",
       "No. Observations:                 172   AIC:                            -209.0\n",
       "Df Residuals:                     168   BIC:                            -196.5\n",
       "Df Model:                           3                                         \n",
       "Covariance Type:                  HC1                                         \n",
       "==============================================================================\n",
       "                 coef    std err          z      P>|z|      [0.025      0.975]\n",
       "------------------------------------------------------------------------------\n",
       "const          0.9189      0.150      6.106      0.000       0.624       1.214\n",
       "lead           0.4618      0.208      2.224      0.026       0.055       0.869\n",
       "ph            -0.0752      0.021     -3.588      0.000      -0.116      -0.034\n",
       "lead_ph       -0.0569      0.028     -2.025      0.043      -0.112      -0.002\n",
       "==============================================================================\n",
       "Omnibus:                        4.916   Durbin-Watson:                   1.946\n",
       "Prob(Omnibus):                  0.086   Jarque-Bera (JB):                4.987\n",
       "Skew:                           0.411   Prob(JB):                       0.0826\n",
       "Kurtosis:                       2.861   Cond. No.                         252.\n",
       "==============================================================================\n",
       "\n",
       "Warnings:\n",
       "[1] Standard Errors are heteroscedasticity robust (HC1)\n",
       "\"\"\""
      ]
     },
     "execution_count": 17,
     "metadata": {},
     "output_type": "execute_result"
    }
   ],
   "source": [
    "df.lead = df.lead.astype(float)\n",
    "df['lead_ph'] = df['lead']*df['ph']\n",
    "\n",
    "X = df[['lead','ph','lead_ph']]\n",
    "Y = df[\"infrate\"]\n",
    "X = sm.add_constant(X.values)\n",
    "model = sm.OLS(Y, X).fit(cov_type = 'HC1')\n",
    "model.summary(xname = ['const', 'lead','ph','lead_ph'])"
   ]
  },
  {
   "cell_type": "markdown",
   "metadata": {},
   "source": [
    "#### b. The regression has four coefficients, including the intercept. Explain what each coefficient means. Does Lead have a statistically significant effect on infant mortality?"
   ]
  },
  {
   "cell_type": "markdown",
   "metadata": {},
   "source": [
    "**Constant**: it's a intercept of infant mortality rate. If lead , ph and lead_ph are zeros the mean of infant mortility rate is 0.9189. <br>\n",
    "\n",
    "**Coefficient of lead**: The mean change in lead by one unit will change infant mortality by 0.4618. when other variables are constant.also we can see that presence of lead will increase the infant mortality rate. p-value of lead is 0.026 which is less than .05 so we can say that lead have a statistically significant effect on infant mortality<br>\n",
    "\n",
    "**Coefficient of lead**:The mean change in ph by one unit will decrease the infant mortality by 0.0752. when other variables are constant.also we can see that presence of ph will decrease the infant mortality rate.<br>\n",
    "\n",
    "**Coefficient of lead_ph**:The mean change in ph * lead by one unit will decrease infant mortality by 0.0569 when other variables are constant. \n"
   ]
  },
  {
   "cell_type": "markdown",
   "metadata": {},
   "source": [
    "The mean change in ph by one unit will decrease infant mortality by 0.0752. when other variables are constant.The mean change in lead by one unit will change infant mortality by 0.4618. when other variables are constant. For mean change in ph * lead by one unit will decrease infant mortality by 0.0569 when other variables are constant. When ph and lead are not present or zero then the infant mortality is 0.9189. "
   ]
  },
  {
   "cell_type": "markdown",
   "metadata": {},
   "source": [
    "#### c. Does the effect of Lead on infant mortality depend on pH? Is this dependence statistically significant? "
   ]
  },
  {
   "cell_type": "markdown",
   "metadata": {},
   "source": [
    "From regression equation: <br>\n",
    "\n",
    "Infant mortality = 0.9189 + 0.4618 * lead - 0.0752\t* ph - 0.0569 * lead_ph<br>\n",
    "\n",
    "Yes lead_ph has statistically significant effect on infant mortality because the p-value of interaction term lead_ph (0.043) is less than alpha at 0.05."
   ]
  },
  {
   "cell_type": "markdown",
   "metadata": {},
   "source": [
    "#### 3. The analysis in question 2 may suffer from omitted variable bias because it doesn't include other factors that affect infant mortality that may also be correlated with Lead and pH. When looking at other variables in the dataset, explain why you think the regression does or does not have omitted variable bias. "
   ]
  },
  {
   "cell_type": "code",
   "execution_count": 18,
   "metadata": {},
   "outputs": [
    {
     "data": {
      "text/html": [
       "<table class=\"simpletable\">\n",
       "<caption>OLS Regression Results</caption>\n",
       "<tr>\n",
       "  <th>Dep. Variable:</th>         <td>infrate</td>     <th>  R-squared:         </th> <td>   0.549</td>\n",
       "</tr>\n",
       "<tr>\n",
       "  <th>Model:</th>                   <td>OLS</td>       <th>  Adj. R-squared:    </th> <td>   0.518</td>\n",
       "</tr>\n",
       "<tr>\n",
       "  <th>Method:</th>             <td>Least Squares</td>  <th>  F-statistic:       </th> <td>   16.42</td>\n",
       "</tr>\n",
       "<tr>\n",
       "  <th>Date:</th>             <td>Fri, 05 Mar 2021</td> <th>  Prob (F-statistic):</th> <td>2.75e-21</td>\n",
       "</tr>\n",
       "<tr>\n",
       "  <th>Time:</th>                 <td>19:50:21</td>     <th>  Log-Likelihood:    </th> <td>  149.79</td>\n",
       "</tr>\n",
       "<tr>\n",
       "  <th>No. Observations:</th>      <td>   172</td>      <th>  AIC:               </th> <td>  -275.6</td>\n",
       "</tr>\n",
       "<tr>\n",
       "  <th>Df Residuals:</th>          <td>   160</td>      <th>  BIC:               </th> <td>  -237.8</td>\n",
       "</tr>\n",
       "<tr>\n",
       "  <th>Df Model:</th>              <td>    11</td>      <th>                     </th>     <td> </td>   \n",
       "</tr>\n",
       "<tr>\n",
       "  <th>Covariance Type:</th>         <td>HC1</td>       <th>                     </th>     <td> </td>   \n",
       "</tr>\n",
       "</table>\n",
       "<table class=\"simpletable\">\n",
       "<tr>\n",
       "        <td></td>           <th>coef</th>     <th>std err</th>      <th>z</th>      <th>P>|z|</th>  <th>[0.025</th>    <th>0.975]</th>  \n",
       "</tr>\n",
       "<tr>\n",
       "  <th>const</th>         <td>    0.8548</td> <td>    0.243</td> <td>    3.524</td> <td> 0.000</td> <td>    0.379</td> <td>    1.330</td>\n",
       "</tr>\n",
       "<tr>\n",
       "  <th>lead</th>          <td>    0.0318</td> <td>    0.019</td> <td>    1.648</td> <td> 0.099</td> <td>   -0.006</td> <td>    0.070</td>\n",
       "</tr>\n",
       "<tr>\n",
       "  <th>ph</th>            <td>   -0.0613</td> <td>    0.015</td> <td>   -4.202</td> <td> 0.000</td> <td>   -0.090</td> <td>   -0.033</td>\n",
       "</tr>\n",
       "<tr>\n",
       "  <th>age</th>           <td>   -0.0207</td> <td>    0.005</td> <td>   -4.401</td> <td> 0.000</td> <td>   -0.030</td> <td>   -0.011</td>\n",
       "</tr>\n",
       "<tr>\n",
       "  <th>hardness</th>      <td>   -0.0001</td> <td> 8.11e-05</td> <td>   -1.312</td> <td> 0.190</td> <td>   -0.000</td> <td> 5.25e-05</td>\n",
       "</tr>\n",
       "<tr>\n",
       "  <th>typhoid_rate</th>  <td>    0.9907</td> <td>    0.326</td> <td>    3.040</td> <td> 0.002</td> <td>    0.352</td> <td>    1.630</td>\n",
       "</tr>\n",
       "<tr>\n",
       "  <th>np_tub_rate</th>   <td>    1.8297</td> <td>    0.752</td> <td>    2.435</td> <td> 0.015</td> <td>    0.357</td> <td>    3.303</td>\n",
       "</tr>\n",
       "<tr>\n",
       "  <th>mom_rate</th>      <td>    0.0055</td> <td>    0.304</td> <td>    0.018</td> <td> 0.985</td> <td>   -0.591</td> <td>    0.602</td>\n",
       "</tr>\n",
       "<tr>\n",
       "  <th>population</th>    <td>-1.538e-06</td> <td> 1.89e-06</td> <td>   -0.812</td> <td> 0.417</td> <td>-5.25e-06</td> <td> 2.17e-06</td>\n",
       "</tr>\n",
       "<tr>\n",
       "  <th>precipitation</th> <td>    0.0708</td> <td>    0.017</td> <td>    4.158</td> <td> 0.000</td> <td>    0.037</td> <td>    0.104</td>\n",
       "</tr>\n",
       "<tr>\n",
       "  <th>temperature</th>   <td>    0.0037</td> <td>    0.002</td> <td>    2.075</td> <td> 0.038</td> <td>    0.000</td> <td>    0.007</td>\n",
       "</tr>\n",
       "<tr>\n",
       "  <th>foreign_share</th> <td>    0.2583</td> <td>    0.102</td> <td>    2.540</td> <td> 0.011</td> <td>    0.059</td> <td>    0.458</td>\n",
       "</tr>\n",
       "</table>\n",
       "<table class=\"simpletable\">\n",
       "<tr>\n",
       "  <th>Omnibus:</th>       <td> 2.845</td> <th>  Durbin-Watson:     </th> <td>   1.796</td>\n",
       "</tr>\n",
       "<tr>\n",
       "  <th>Prob(Omnibus):</th> <td> 0.241</td> <th>  Jarque-Bera (JB):  </th> <td>   2.473</td>\n",
       "</tr>\n",
       "<tr>\n",
       "  <th>Skew:</th>          <td> 0.197</td> <th>  Prob(JB):          </th> <td>   0.290</td>\n",
       "</tr>\n",
       "<tr>\n",
       "  <th>Kurtosis:</th>      <td> 3.435</td> <th>  Cond. No.          </th> <td>2.90e+05</td>\n",
       "</tr>\n",
       "</table><br/><br/>Warnings:<br/>[1] Standard Errors are heteroscedasticity robust (HC1)<br/>[2] The condition number is large, 2.9e+05. This might indicate that there are<br/>strong multicollinearity or other numerical problems."
      ],
      "text/plain": [
       "<class 'statsmodels.iolib.summary.Summary'>\n",
       "\"\"\"\n",
       "                            OLS Regression Results                            \n",
       "==============================================================================\n",
       "Dep. Variable:                infrate   R-squared:                       0.549\n",
       "Model:                            OLS   Adj. R-squared:                  0.518\n",
       "Method:                 Least Squares   F-statistic:                     16.42\n",
       "Date:                Fri, 05 Mar 2021   Prob (F-statistic):           2.75e-21\n",
       "Time:                        19:50:21   Log-Likelihood:                 149.79\n",
       "No. Observations:                 172   AIC:                            -275.6\n",
       "Df Residuals:                     160   BIC:                            -237.8\n",
       "Df Model:                          11                                         \n",
       "Covariance Type:                  HC1                                         \n",
       "=================================================================================\n",
       "                    coef    std err          z      P>|z|      [0.025      0.975]\n",
       "---------------------------------------------------------------------------------\n",
       "const             0.8548      0.243      3.524      0.000       0.379       1.330\n",
       "lead              0.0318      0.019      1.648      0.099      -0.006       0.070\n",
       "ph               -0.0613      0.015     -4.202      0.000      -0.090      -0.033\n",
       "age              -0.0207      0.005     -4.401      0.000      -0.030      -0.011\n",
       "hardness         -0.0001   8.11e-05     -1.312      0.190      -0.000    5.25e-05\n",
       "typhoid_rate      0.9907      0.326      3.040      0.002       0.352       1.630\n",
       "np_tub_rate       1.8297      0.752      2.435      0.015       0.357       3.303\n",
       "mom_rate          0.0055      0.304      0.018      0.985      -0.591       0.602\n",
       "population    -1.538e-06   1.89e-06     -0.812      0.417   -5.25e-06    2.17e-06\n",
       "precipitation     0.0708      0.017      4.158      0.000       0.037       0.104\n",
       "temperature       0.0037      0.002      2.075      0.038       0.000       0.007\n",
       "foreign_share     0.2583      0.102      2.540      0.011       0.059       0.458\n",
       "==============================================================================\n",
       "Omnibus:                        2.845   Durbin-Watson:                   1.796\n",
       "Prob(Omnibus):                  0.241   Jarque-Bera (JB):                2.473\n",
       "Skew:                           0.197   Prob(JB):                        0.290\n",
       "Kurtosis:                       3.435   Cond. No.                     2.90e+05\n",
       "==============================================================================\n",
       "\n",
       "Warnings:\n",
       "[1] Standard Errors are heteroscedasticity robust (HC1)\n",
       "[2] The condition number is large, 2.9e+05. This might indicate that there are\n",
       "strong multicollinearity or other numerical problems.\n",
       "\"\"\""
      ]
     },
     "execution_count": 18,
     "metadata": {},
     "output_type": "execute_result"
    }
   ],
   "source": [
    "X = df[['lead','ph','age','hardness','typhoid_rate','np_tub_rate','mom_rate','population','precipitation','temperature','foreign_share']]\n",
    "Y = df[\"infrate\"]\n",
    "X = sm.add_constant(X.values)\n",
    "model = sm.OLS(Y, X).fit(cov_type = 'HC1')\n",
    "model.summary(xname = ['const', 'lead','ph','age','hardness','typhoid_rate','np_tub_rate','mom_rate','population','precipitation','temperature','foreign_share'])"
   ]
  },
  {
   "cell_type": "code",
   "execution_count": null,
   "metadata": {},
   "outputs": [],
   "source": []
  }
 ],
 "metadata": {
  "kernelspec": {
   "display_name": "Python 3",
   "language": "python",
   "name": "python3"
  },
  "language_info": {
   "codemirror_mode": {
    "name": "ipython",
    "version": 3
   },
   "file_extension": ".py",
   "mimetype": "text/x-python",
   "name": "python",
   "nbconvert_exporter": "python",
   "pygments_lexer": "ipython3",
   "version": "3.7.4"
  }
 },
 "nbformat": 4,
 "nbformat_minor": 2
}
